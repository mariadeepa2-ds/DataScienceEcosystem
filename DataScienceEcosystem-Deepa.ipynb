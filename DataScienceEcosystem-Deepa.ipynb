{
 "cells": [
  {
   "cell_type": "code",
   "execution_count": null,
   "id": "fecba1d8-0375-49a5-8f1f-91ddf30ddb99",
   "metadata": {},
   "outputs": [],
   "source": [
    "DataScienceEcosystem.ipynb\n"
   ]
  },
  {
   "cell_type": "markdown",
   "id": "ff5788c7-257d-4b3e-93c8-b2737264eb1a",
   "metadata": {},
   "source": [
    "# Data Science Ecosystem"
   ]
  },
  {
   "cell_type": "markdown",
   "id": "74ff1d77-13be-4006-a5fa-7be67248b4d2",
   "metadata": {},
   "source": [
    "The notebook provides summary of Data Science tools and the ecosystem. The components like tools, librairies and environments are used for big data processing, machine learning and data management purposes. The most famous development enviornment data scientist are using is \"Jupyter\", a tool emerged for interactive Python Programming.Jupyter allows data scientist to create and share documents. It supports many programming languages. "
   ]
  },
  {
   "cell_type": "markdown",
   "id": "37d93ecb-4f6c-4e6f-970e-82a697a86d7a",
   "metadata": {},
   "source": [
    "## The Popular languages are \n",
    "1. Python -  Is a powerhouse of languages, widely used and most popular programming language used in data science industry.\n",
    "2. R - R languages is array-oriented sytax makes it easier to translate math code to simpler, used to solve complex prpblems.\n",
    "3. SQL - stands for Structured Query Language. It is designed to managing data in relational database.\n",
    "4. Scala - It is a general purpose programming language that provides support for functional programming.\n",
    "5. Julia - It is designed for high-performance numercial analysis.\n",
    "6. Java - It is general purpose, object-oriented language.\n",
    "7. C++ - It is an extension C programming languages. "
   ]
  },
  {
   "cell_type": "markdown",
   "id": "26ec737a-6ded-45ee-b6bf-98bdb816ce9f",
   "metadata": {},
   "source": [
    "## Data Science Libraries\n",
    "Commonly used libraries by Data Scientist includes:\n",
    "1. NumPy - It is a scientific computing libraries in Python. Allowing to apply mathematical functions to arrays.\n",
    "2. Pandas - Offers data structures and tools for effective data cleaning, manipulation and analsysis. It is built on top of NumPy.\n",
    "3. Matplotlib - Most well-known library for data visualization.\n",
    "4. Scikit-learn - a library contains tools for statistical modeling, including regression, classification.\n",
    "5. TensorFlow - A deep-learning library, is a low-level framework used in large-scale production of deep-learning models."
   ]
  },
  {
   "cell_type": "markdown",
   "id": "7170d4d8-f650-40d3-8574-8ff0df23a325",
   "metadata": {},
   "source": [
    "### Data Science Tools\n",
    "\n",
    "| Data Science Tools\n",
    "| ------------------------------------------\n",
    "| Jupyter Notebook  - Open source tool provides an interactive environment for creating and sharing code based on interface |\n",
    "| R Studio          - An integrated development environment designed for working with R programming language, used for statistical computing and data anslysis |\n",
    "| Visual Studio Code (VS Code) - An integrated development environment that supports  a variety of pragramming language |\n"
   ]
  },
  {
   "cell_type": "markdown",
   "id": "bb97c544-81b7-4365-a44b-c6af8fcc3657",
   "metadata": {},
   "source": [
    "### Examples of evaluating arithmetic expressions in Python.\n"
   ]
  },
  {
   "cell_type": "code",
   "execution_count": null,
   "id": "c1a37ea6-c2d1-41b5-8474-2526722b0bcc",
   "metadata": {},
   "outputs": [],
   "source": []
  },
  {
   "cell_type": "code",
   "execution_count": 5,
   "id": "a1f5ec7b-be70-4080-9825-cf75fc816231",
   "metadata": {},
   "outputs": [
    {
     "name": "stdout",
     "output_type": "stream",
     "text": [
      "Addition: 2 + 5 = 7\n",
      "Subtraction: 16 - 8 = 8\n",
      "Multiplication: 27 * 9 = 243\n",
      "Division: 19 / 3 = 6.333333333333333\n"
     ]
    }
   ],
   "source": [
    "print(\"Addition: 2 + 5 =\", 2 + 5)\n",
    "print(\"Subtraction: 16 - 8 =\", 16 - 8)\n",
    "print(\"Multiplication: 27 * 9 =\", 27 * 9)\n",
    "print(\"Division: 19 / 3 =\", 19 / 3)\n"
   ]
  },
  {
   "cell_type": "code",
   "execution_count": 7,
   "id": "92d12fce-ae36-473f-86de-93ef63522296",
   "metadata": {},
   "outputs": [
    {
     "name": "stdout",
     "output_type": "stream",
     "text": [
      "result of (3*4) + 5 = 17\n"
     ]
    }
   ],
   "source": [
    "result = (3 * 4 ) + 5\n",
    "print(\"result of (3*4) + 5 =\", result)"
   ]
  },
  {
   "cell_type": "code",
   "execution_count": 8,
   "id": "13ed96b1-befa-466d-bc8a-11545d72cbc6",
   "metadata": {},
   "outputs": [
    {
     "data": {
      "text/plain": [
       "3.3333333333333335"
      ]
     },
     "execution_count": 8,
     "metadata": {},
     "output_type": "execute_result"
    }
   ],
   "source": [
    "hour = 200 / 60\n",
    "hour "
   ]
  },
  {
   "cell_type": "markdown",
   "id": "e8a98313-be46-4e19-b48d-ed3d59eda2fb",
   "metadata": {},
   "source": [
    "## Objectives of Jupyter Notebook:\n",
    "•\tA key property of Jupyter Notebooks is to unify documentation, code, output from the code, shell commands, and visualizations in a single document.\n",
    "•\tJupyter Notebooks with graphical tools to maximize the performance of data scientists.\n",
    "•\tJupyter Notebooks provides an interactive environment for creating and sharing code, descriptive text, data visualizations, and other computational artifacts in a web-browser based interface\n"
   ]
  },
  {
   "cell_type": "markdown",
   "id": "2bb3dcce-8f0a-48e3-9d88-c86a050b7756",
   "metadata": {},
   "source": [
    "## Author\n",
    "Deepa D"
   ]
  },
  {
   "cell_type": "code",
   "execution_count": null,
   "id": "c109fa86-6030-4ad1-8e28-c2053b81eec9",
   "metadata": {},
   "outputs": [],
   "source": []
  }
 ],
 "metadata": {
  "kernelspec": {
   "display_name": "Python 3 (ipykernel)",
   "language": "python",
   "name": "python3"
  },
  "language_info": {
   "codemirror_mode": {
    "name": "ipython",
    "version": 3
   },
   "file_extension": ".py",
   "mimetype": "text/x-python",
   "name": "python",
   "nbconvert_exporter": "python",
   "pygments_lexer": "ipython3",
   "version": "3.12.8"
  }
 },
 "nbformat": 4,
 "nbformat_minor": 5
}
